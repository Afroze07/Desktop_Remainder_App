{
 "cells": [
  {
   "cell_type": "code",
   "execution_count": 1,
   "id": "0bba5223",
   "metadata": {},
   "outputs": [
    {
     "name": "stdout",
     "output_type": "stream",
     "text": [
      "Collecting win10toast\n",
      "  Downloading win10toast-0.9-py2.py3-none-any.whl (21 kB)\n",
      "Collecting pypiwin32\n",
      "  Downloading pypiwin32-223-py3-none-any.whl (1.7 kB)\n",
      "Requirement already satisfied: setuptools in c:\\users\\91704\\anaconda3\\lib\\site-packages (from win10toast) (67.4.0)\n",
      "Requirement already satisfied: pywin32>=223 in c:\\users\\91704\\anaconda3\\lib\\site-packages (from pypiwin32->win10toast) (227)\n",
      "Installing collected packages: pypiwin32, win10toast\n",
      "Successfully installed pypiwin32-223 win10toast-0.9\n"
     ]
    }
   ],
   "source": [
    "!pip install win10toast"
   ]
  },
  {
   "cell_type": "markdown",
   "id": "6ec061c2",
   "metadata": {},
   "source": [
    "# Imports"
   ]
  },
  {
   "cell_type": "code",
   "execution_count": 2,
   "id": "573ee794",
   "metadata": {},
   "outputs": [],
   "source": [
    "from turtle import title\n",
    "from win10toast import ToastNotifier\n",
    "import time"
   ]
  },
  {
   "cell_type": "code",
   "execution_count": null,
   "id": "a8465099",
   "metadata": {},
   "outputs": [
    {
     "name": "stdout",
     "output_type": "stream",
     "text": [
      "\n",
      "Title of Remainder: Hello\n",
      "Message: HI\n",
      "How many Minutes:1\n",
      "\n",
      "Remainder Set Successfully!\n",
      "\n"
     ]
    }
   ],
   "source": [
    "toaster=ToastNotifier()\n",
    "Toasttitle=input(\"\\nTitle of Remainder: \")\n",
    "msg=input(\"Message: \")\n",
    "minutes = float(input(\"How many Minutes:\"))\n",
    "\n",
    "seconds= minutes*60\n",
    "print(\"\\nRemainder Set Successfully!\\n\")\n",
    "time.sleep(seconds)\n",
    "toaster.show_toast(Toasttitle,msg,duration=10,threaded=True)\n",
    "\n",
    "while toaster.notification_active:\n",
    "    time.sleep(0.1)"
   ]
  },
  {
   "cell_type": "code",
   "execution_count": null,
   "id": "8d97f03a",
   "metadata": {},
   "outputs": [],
   "source": []
  }
 ],
 "metadata": {
  "kernelspec": {
   "display_name": "Python 3",
   "language": "python",
   "name": "python3"
  },
  "language_info": {
   "codemirror_mode": {
    "name": "ipython",
    "version": 3
   },
   "file_extension": ".py",
   "mimetype": "text/x-python",
   "name": "python",
   "nbconvert_exporter": "python",
   "pygments_lexer": "ipython3",
   "version": "3.8.8"
  }
 },
 "nbformat": 4,
 "nbformat_minor": 5
}
